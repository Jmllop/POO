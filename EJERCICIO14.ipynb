{
  "nbformat": 4,
  "nbformat_minor": 0,
  "metadata": {
    "colab": {
      "provenance": []
    },
    "kernelspec": {
      "name": "python3",
      "display_name": "Python 3"
    },
    "language_info": {
      "name": "python"
    }
  },
  "cells": [
    {
      "cell_type": "code",
      "execution_count": 5,
      "metadata": {
        "id": "oy1cNbXUnzcE"
      },
      "outputs": [],
      "source": [
        "class Llop():\n",
        "\n",
        "  def __init__(self):\n",
        "    print(\"creamos una clase madre\")\n",
        "\n",
        "  def edad(self):\n",
        "      print(\"20\")\n",
        "\n",
        "  def coche(self):\n",
        "        print(\"Rav-4\")"
      ]
    },
    {
      "cell_type": "code",
      "source": [
        "guero =   Llop()"
      ],
      "metadata": {
        "colab": {
          "base_uri": "https://localhost:8080/"
        },
        "id": "hoX6zTTzoIis",
        "outputId": "557eb173-bd40-4de3-f059-96cb0eedbc30"
      },
      "execution_count": 6,
      "outputs": [
        {
          "output_type": "stream",
          "name": "stdout",
          "text": [
            "creamos una clase madre\n"
          ]
        }
      ]
    },
    {
      "cell_type": "code",
      "source": [
        "guero.edad()"
      ],
      "metadata": {
        "colab": {
          "base_uri": "https://localhost:8080/"
        },
        "id": "mfWBm7TgoOdJ",
        "outputId": "4f3e8f46-b7a2-4013-dad0-b96c8d442bcb"
      },
      "execution_count": 7,
      "outputs": [
        {
          "output_type": "stream",
          "name": "stdout",
          "text": [
            "20\n"
          ]
        }
      ]
    },
    {
      "cell_type": "code",
      "source": [
        "guero.coche()"
      ],
      "metadata": {
        "colab": {
          "base_uri": "https://localhost:8080/"
        },
        "id": "xGXHpC_HoYI3",
        "outputId": "e12f4c75-67a1-4ba4-cd16-a67d25911cf7"
      },
      "execution_count": 8,
      "outputs": [
        {
          "output_type": "stream",
          "name": "stdout",
          "text": [
            "Rav-4\n"
          ]
        }
      ]
    },
    {
      "cell_type": "code",
      "source": [
        "class Amigos(Llop):\n",
        "\n",
        "  def __init__(self):\n",
        "    Llop.__init__(self)\n",
        "    print(\"Datos curiosos\")\n",
        "\n",
        "  def apodo(self):\n",
        "      print(\"guero\")\n",
        "\n",
        "  def Amigos(self):\n",
        "    print(\"Santiago Martinez, Juan Pablo Sámano\")"
      ],
      "metadata": {
        "id": "8s8h7PLspItx"
      },
      "execution_count": 13,
      "outputs": []
    },
    {
      "cell_type": "code",
      "source": [
        "datos = Amigos()"
      ],
      "metadata": {
        "colab": {
          "base_uri": "https://localhost:8080/"
        },
        "id": "ApdiCrA6p4sO",
        "outputId": "9b323e6c-1332-46e9-df10-9cb67fea61e6"
      },
      "execution_count": 14,
      "outputs": [
        {
          "output_type": "stream",
          "name": "stdout",
          "text": [
            "creamos una clase madre\n",
            "Datos curiosos\n"
          ]
        }
      ]
    },
    {
      "cell_type": "code",
      "source": [
        "datos.apodo()"
      ],
      "metadata": {
        "colab": {
          "base_uri": "https://localhost:8080/"
        },
        "id": "jxmwpAfoqDKH",
        "outputId": "8d7aee85-442b-4665-c7f8-e65911abbceb"
      },
      "execution_count": 17,
      "outputs": [
        {
          "output_type": "stream",
          "name": "stdout",
          "text": [
            "guero\n"
          ]
        }
      ]
    },
    {
      "cell_type": "code",
      "source": [
        "datos.Amigos()"
      ],
      "metadata": {
        "colab": {
          "base_uri": "https://localhost:8080/"
        },
        "id": "NoFTl6E7qrlu",
        "outputId": "ab24e284-46e7-4058-c7cc-d98a851e6aeb"
      },
      "execution_count": 18,
      "outputs": [
        {
          "output_type": "stream",
          "name": "stdout",
          "text": [
            "Santiago Martinez, Juan Pablo Sámano\n"
          ]
        }
      ]
    }
  ]
}