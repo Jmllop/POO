{
  "nbformat": 4,
  "nbformat_minor": 0,
  "metadata": {
    "colab": {
      "provenance": []
    },
    "kernelspec": {
      "name": "python3",
      "display_name": "Python 3"
    },
    "language_info": {
      "name": "python"
    }
  },
  "cells": [
    {
      "cell_type": "code",
      "source": [],
      "metadata": {
        "id": "Nwo7oo9Oitv8"
      },
      "execution_count": null,
      "outputs": []
    },
    {
      "cell_type": "markdown",
      "source": [
        "#Primeros Objetos\n",
        "\n",
        "1. Objetos\n",
        "2. Listas\n",
        "3. Conjuntos"
      ],
      "metadata": {
        "id": "nGngLPpKjIzr"
      }
    },
    {
      "cell_type": "markdown",
      "source": [
        "En python se pueden realizar operaciones sobre objetos. Además, es útil para resolver un sistema de ecuaciones lineales.\n",
        "\n",
        "$$\n",
        "f(x,y) = \\begin{cases}\n",
        "x+2y = 3\\\\\n",
        "2x+4y = 6\n",
        "\\end{cases}\n",
        "$$  "
      ],
      "metadata": {
        "id": "nQGe10hMjDJV"
      }
    },
    {
      "cell_type": "code",
      "source": [
        " print(\"Hola Mundo!\")"
      ],
      "metadata": {
        "colab": {
          "base_uri": "https://localhost:8080/"
        },
        "id": "j-W56nJkqPMU",
        "outputId": "adb156ef-e29f-43d1-f8ea-87bfc65085d7"
      },
      "execution_count": 1,
      "outputs": [
        {
          "output_type": "stream",
          "name": "stdout",
          "text": [
            "Hola Mundo!\n"
          ]
        }
      ]
    },
    {
      "cell_type": "markdown",
      "source": [
        "## Primeros Objetos\n",
        "\n",
        "\n",
        "\n",
        "*   Números enteros.\n",
        "*   Números Flotantes.\n",
        "\n"
      ],
      "metadata": {
        "id": "MDVkwm36rcz9"
      }
    },
    {
      "cell_type": "code",
      "source": [
        "# Crear variables\n",
        "x = 3\n",
        "y = 5\n"
      ],
      "metadata": {
        "id": "S6ZFIMMGsVA9"
      },
      "execution_count": 3,
      "outputs": []
    },
    {
      "cell_type": "code",
      "source": [
        "print(x+y)\n",
        "print(x-y)\n",
        "print(x*y)\n",
        "print(x**y)\n",
        "print(x/y)\n",
        "print(x//y)\n",
        "print(x%y)"
      ],
      "metadata": {
        "colab": {
          "base_uri": "https://localhost:8080/"
        },
        "id": "4cFvPiNns3dr",
        "outputId": "917fde95-ebfc-4c50-f420-0c8bc8af8631"
      },
      "execution_count": 5,
      "outputs": [
        {
          "output_type": "stream",
          "name": "stdout",
          "text": [
            "8\n",
            "-2\n",
            "15\n",
            "243\n",
            "0.6\n",
            "0\n",
            "3\n"
          ]
        }
      ]
    },
    {
      "cell_type": "code",
      "source": [
        "type(x+y)"
      ],
      "metadata": {
        "colab": {
          "base_uri": "https://localhost:8080/"
        },
        "id": "O6lfjwrlxKVX",
        "outputId": "8692d4c8-7a9d-4df3-b842-fba97e016f36"
      },
      "execution_count": 6,
      "outputs": [
        {
          "output_type": "execute_result",
          "data": {
            "text/plain": [
              "int"
            ]
          },
          "metadata": {},
          "execution_count": 6
        }
      ]
    },
    {
      "cell_type": "code",
      "source": [
        "type(x/y)"
      ],
      "metadata": {
        "colab": {
          "base_uri": "https://localhost:8080/"
        },
        "id": "XdiEBf5XxN5K",
        "outputId": "90342009-8b45-40a4-8bc0-3554c7d76740"
      },
      "execution_count": 7,
      "outputs": [
        {
          "output_type": "execute_result",
          "data": {
            "text/plain": [
              "float"
            ]
          },
          "metadata": {},
          "execution_count": 7
        }
      ]
    }
  ]
}