{
  "nbformat": 4,
  "nbformat_minor": 0,
  "metadata": {
    "colab": {
      "provenance": []
    },
    "kernelspec": {
      "name": "python3",
      "display_name": "Python 3"
    },
    "language_info": {
      "name": "python"
    }
  },
  "cells": [
    {
      "cell_type": "code",
      "source": [
        "def Perimetro(b, l):\n",
        "  p = (b*2) + l\n",
        "  return p"
      ],
      "metadata": {
        "id": "izjfsa7BaV62"
      },
      "execution_count": 4,
      "outputs": []
    },
    {
      "cell_type": "code",
      "source": [
        "Perimetro(2,8)"
      ],
      "metadata": {
        "colab": {
          "base_uri": "https://localhost:8080/"
        },
        "id": "EckBZVPUaq1-",
        "outputId": "a711cc2a-fcb0-42fd-e5fe-4f56474c9871"
      },
      "execution_count": 5,
      "outputs": [
        {
          "output_type": "execute_result",
          "data": {
            "text/plain": [
              "12"
            ]
          },
          "metadata": {},
          "execution_count": 5
        }
      ]
    },
    {
      "cell_type": "code",
      "execution_count": 2,
      "metadata": {
        "id": "wUKkkSvKXCe0"
      },
      "outputs": [],
      "source": [
        "def Area(b,l):\n",
        "  a = b*l/2\n",
        "  return a\n"
      ]
    },
    {
      "cell_type": "code",
      "source": [
        "def numpar(x):\n",
        "  num=x%2\n",
        "  return num"
      ],
      "metadata": {
        "id": "vSuNf9T7aC1k"
      },
      "execution_count": 10,
      "outputs": []
    },
    {
      "cell_type": "code",
      "source": [
        "numpar (9)"
      ],
      "metadata": {
        "colab": {
          "base_uri": "https://localhost:8080/"
        },
        "id": "6olZoNt7n7K1",
        "outputId": "e0e98ed8-49ad-4d32-8028-df5fefdf1360"
      },
      "execution_count": 11,
      "outputs": [
        {
          "output_type": "execute_result",
          "data": {
            "text/plain": [
              "1"
            ]
          },
          "metadata": {},
          "execution_count": 11
        }
      ]
    },
    {
      "cell_type": "code",
      "source": [
        "x=455776\n",
        "if numpar(x)==0:\n",
        "  print(\"par\")\n",
        "else:\n",
        "\n",
        "    print(\"impar\")"
      ],
      "metadata": {
        "colab": {
          "base_uri": "https://localhost:8080/"
        },
        "id": "fKlOLS6ln95I",
        "outputId": "460dae05-5ca1-44d8-f4e5-6826adefc6e5"
      },
      "execution_count": 12,
      "outputs": [
        {
          "output_type": "stream",
          "name": "stdout",
          "text": [
            "par\n"
          ]
        }
      ]
    },
    {
      "cell_type": "code",
      "source": [
        "#Se pide ingresar un número\n",
        "n=int(input(\"ingresa\"))\n",
        "\n",
        "# Se desgloza\n",
        "L=[i for i in range(1, n) if n%i==0]\n",
        "L"
      ],
      "metadata": {
        "colab": {
          "base_uri": "https://localhost:8080/"
        },
        "id": "jvxL66ubobks",
        "outputId": "6adb4714-193e-4bca-f4e5-27ac301aa49e"
      },
      "execution_count": 16,
      "outputs": [
        {
          "name": "stdout",
          "output_type": "stream",
          "text": [
            "ingresa8\n"
          ]
        },
        {
          "output_type": "execute_result",
          "data": {
            "text/plain": [
              "[1, 2, 4]"
            ]
          },
          "metadata": {},
          "execution_count": 16
        }
      ]
    },
    {
      "cell_type": "code",
      "source": [
        "# Se agrega para ver si el numero es perfecto o no lo es\n",
        "if (sum(L) ==n):\n",
        "  print (\"Es perfecto\")\n",
        "else:\n",
        "    print (\"No es perfecto\")"
      ],
      "metadata": {
        "colab": {
          "base_uri": "https://localhost:8080/"
        },
        "id": "6V2SXHZWpM3i",
        "outputId": "2f35dc95-b154-4160-a920-433e68b9a389"
      },
      "execution_count": 17,
      "outputs": [
        {
          "output_type": "stream",
          "name": "stdout",
          "text": [
            "No es perfecto\n"
          ]
        }
      ]
    }
  ]
}