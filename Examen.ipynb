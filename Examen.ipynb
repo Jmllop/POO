{
  "nbformat": 4,
  "nbformat_minor": 0,
  "metadata": {
    "colab": {
      "provenance": []
    },
    "kernelspec": {
      "name": "python3",
      "display_name": "Python 3"
    },
    "language_info": {
      "name": "python"
    }
  },
  "cells": [
    {
      "cell_type": "markdown",
      "source": [
        "## Examen"
      ],
      "metadata": {
        "id": "LJlmIDkum5C1"
      }
    },
    {
      "cell_type": "code",
      "source": [
        "class Formulas:\n",
        "\n",
        "  def __init__(self):\n",
        "    print(\"Creamos una clase\")\n",
        "\n",
        "class Triangulo(Formulas):\n",
        "   def __init__(self, lado ):\n",
        "        self.perimetro = lado * 3\n",
        "        self.area = ((3**(1/3))*(lado**2))/4"
      ],
      "metadata": {
        "id": "dNOrLqaQ0vHY"
      },
      "execution_count": 46,
      "outputs": []
    },
    {
      "cell_type": "code",
      "source": [
        "formulas = Formulas()"
      ],
      "metadata": {
        "colab": {
          "base_uri": "https://localhost:8080/"
        },
        "id": "oXU0cpkw1oZD",
        "outputId": "258d8582-c9f3-460f-a6c0-588ce60cbdfa"
      },
      "execution_count": 47,
      "outputs": [
        {
          "output_type": "stream",
          "name": "stdout",
          "text": [
            "Creamos una clase\n"
          ]
        }
      ]
    },
    {
      "cell_type": "code",
      "source": [
        "triangulo = Triangulo(3)"
      ],
      "metadata": {
        "id": "2drNI3Bg1680"
      },
      "execution_count": 48,
      "outputs": []
    },
    {
      "cell_type": "code",
      "source": [
        "triangulo.area"
      ],
      "metadata": {
        "colab": {
          "base_uri": "https://localhost:8080/"
        },
        "id": "jlPhWIQc2AXn",
        "outputId": "3b69fd79-3ea6-41fb-bad5-27a5b27c18e7"
      },
      "execution_count": 49,
      "outputs": [
        {
          "output_type": "execute_result",
          "data": {
            "text/plain": [
              "3.245061533191669"
            ]
          },
          "metadata": {},
          "execution_count": 49
        }
      ]
    },
    {
      "cell_type": "code",
      "source": [
        "triangulo.perimetro"
      ],
      "metadata": {
        "colab": {
          "base_uri": "https://localhost:8080/"
        },
        "id": "P2hNoo0k2LXM",
        "outputId": "c56af9d8-caa4-41ee-b355-352a378d87f9"
      },
      "execution_count": 50,
      "outputs": [
        {
          "output_type": "execute_result",
          "data": {
            "text/plain": [
              "9"
            ]
          },
          "metadata": {},
          "execution_count": 50
        }
      ]
    },
    {
      "cell_type": "markdown",
      "source": [
        "## Ejercicio 2\n"
      ],
      "metadata": {
        "id": "KTDVMqce3-NP"
      }
    },
    {
      "cell_type": "code",
      "source": [
        "class MatrizCuadrada(Formulas):\n",
        "\n",
        "  def __init__(self, elementos):\n",
        "    self.elementos = elementos\n",
        "\n",
        "  def imprimir__matriz(self):\n",
        "      matriz = [i for i in range(0, 4)]\n",
        "      for fila in matriz:\n",
        "        print (fila)"
      ],
      "metadata": {
        "id": "AFSNP9a54Aqy"
      },
      "execution_count": 66,
      "outputs": []
    },
    {
      "cell_type": "code",
      "source": [
        "#Solicitar al usuario ingresar la lista de 16 elementos\n",
        "elementos_usuario = []\n",
        "for _ in range(4):\n",
        "  elemento = float (input (f\"'Ingresa el elemento (_ + 1): \"))\n",
        "  elementos_usuario.append (elemento)"
      ],
      "metadata": {
        "colab": {
          "base_uri": "https://localhost:8080/"
        },
        "id": "FYvRn84G80G1",
        "outputId": "f8997168-deba-46e1-a476-3248025214c3"
      },
      "execution_count": 68,
      "outputs": [
        {
          "name": "stdout",
          "output_type": "stream",
          "text": [
            "'Ingresa el elemento (_ + 1): 1\n",
            "'Ingresa el elemento (_ + 1): 2\n",
            "'Ingresa el elemento (_ + 1): 3\n",
            "'Ingresa el elemento (_ + 1): 4\n"
          ]
        }
      ]
    },
    {
      "cell_type": "code",
      "source": [
        "elementos_usuario"
      ],
      "metadata": {
        "colab": {
          "base_uri": "https://localhost:8080/"
        },
        "id": "AyjwOmSo9Qil",
        "outputId": "629acad4-8dd0-4e28-c489-7c7a200a1210"
      },
      "execution_count": 69,
      "outputs": [
        {
          "output_type": "execute_result",
          "data": {
            "text/plain": [
              "[1.0, 2.0, 3.0, 4.0]"
            ]
          },
          "metadata": {},
          "execution_count": 69
        }
      ]
    },
    {
      "cell_type": "code",
      "source": [
        "#Crear instancia de la clase y mostrar la matriz 2\n",
        "matriz_objeto = MatrizCuadrada (elementos_usuario)"
      ],
      "metadata": {
        "id": "l4qHDE_599ZQ"
      },
      "execution_count": 78,
      "outputs": []
    },
    {
      "cell_type": "markdown",
      "source": [
        "## Ejercicio 3"
      ],
      "metadata": {
        "id": "Jj4refks-1xx"
      }
    },
    {
      "cell_type": "code",
      "source": [
        "import numpy as np\n",
        "\n",
        "class det(Formulas):\n",
        "  def init (self):\n",
        "    pass\n",
        "\n",
        "def determinante(self, MatrizCuadrada):\n",
        "  return np. linalg.det (MatrizCuadrada)\n",
        "\n",
        "class Calculadordet(Formulas):\n",
        "  def _init__ (self):super ().init_()\n",
        "\n",
        "print (determinante)"
      ],
      "metadata": {
        "colab": {
          "base_uri": "https://localhost:8080/"
        },
        "id": "kStkmT21-4mJ",
        "outputId": "1f631ffe-b581-4d1b-b2fd-85980d34a6b3"
      },
      "execution_count": 77,
      "outputs": [
        {
          "output_type": "stream",
          "name": "stdout",
          "text": [
            "<function determinante at 0x7913be1bce50>\n"
          ]
        }
      ]
    }
  ]
}